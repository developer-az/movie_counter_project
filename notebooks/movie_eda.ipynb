{
 "cells": [
  {
   "cell_type": "markdown",
   "metadata": {},
   "source": [
    "# Movie Data Exploratory Data Analysis (EDA)\n",
    "\n",
    "This notebook provides a comprehensive analysis of our movie dataset, exploring trends in box office performance, genre preferences, studio success, and seasonal patterns."
   ]
  },
  {
   "cell_type": "code",
   "execution_count": null,
   "metadata": {},
   "outputs": [],
   "source": [
    "# Import required libraries\n",
    "import pandas as pd\n",
    "import numpy as np\n",
    "import matplotlib.pyplot as plt\n",
    "import seaborn as sns\n",
    "import plotly.express as px\n",
    "import plotly.graph_objects as go\n",
    "from plotly.subplots import make_subplots\n",
    "import warnings\n",
    "warnings.filterwarnings('ignore')\n",
    "\n",
    "# Set style\n",
    "plt.style.use('seaborn-v0_8')\n",
    "sns.set_palette(\"husl\")\n",
    "\n",
    "# Configure display\n",
    "pd.set_option('display.max_columns', None)\n",
    "pd.set_option('display.max_rows', 100)"
   ]
  },
  {
   "cell_type": "markdown",
   "metadata": {},
   "source": [
    "## 1. Data Loading and Overview"
   ]
  },
  {
   "cell_type": "code",
   "execution_count": null,
   "metadata": {},
   "outputs": [],
   "source": [
    "# Load processed datasets\n",
    "movies = pd.read_csv('../data/processed/movies_processed.csv')\n",
    "sales = pd.read_csv('../data/processed/sales_processed.csv')\n",
    "genre_stats = pd.read_csv('../data/processed/genre_stats.csv')\n",
    "studio_stats = pd.read_csv('../data/processed/studio_stats.csv')\n",
    "monthly_sales = pd.read_csv('../data/processed/monthly_sales.csv')\n",
    "\n",
    "# Convert date columns\n",
    "movies['release_date'] = pd.to_datetime(movies['release_date'])\n",
    "sales['date'] = pd.to_datetime(sales['date'])\n",
    "\n",
    "print(\"Dataset Shapes:\")\n",
    "print(f\"Movies: {movies.shape}\")\n",
    "print(f\"Sales: {sales.shape}\")\n",
    "print(f\"Genre Stats: {genre_stats.shape}\")\n",
    "print(f\"Studio Stats: {studio_stats.shape}\")"
   ]
  },
  {
   "cell_type": "code",
   "execution_count": null,
   "metadata": {},
   "outputs": [],
   "source": [
    "# Display basic information about the movies dataset\n",
    "movies.head()"
   ]
  },
  {
   "cell_type": "code",
   "execution_count": null,
   "metadata": {},
   "outputs": [],
   "source": [
    "# Basic statistics\n",
    "movies.describe()"
   ]
  },
  {
   "cell_type": "markdown",
   "metadata": {},
   "source": [
    "## 2. Genre Analysis"
   ]
  },
  {
   "cell_type": "code",
   "execution_count": null,
   "metadata": {},
   "outputs": [],
   "source": [
    "# Genre distribution\n",
    "fig, axes = plt.subplots(2, 2, figsize=(15, 12))\n",
    "\n",
    "# Movie count by genre\n",
    "genre_counts = movies['genre'].value_counts()\n",
    "axes[0,0].pie(genre_counts.values, labels=genre_counts.index, autopct='%1.1f%%')\n",
    "axes[0,0].set_title('Movie Distribution by Genre')\n",
    "\n",
    "# Average gross by genre\n",
    "genre_stats_sorted = genre_stats.sort_values('avg_gross', ascending=True)\n",
    "axes[0,1].barh(genre_stats_sorted['genre'], genre_stats_sorted['avg_gross'])\n",
    "axes[0,1].set_title('Average Gross Revenue by Genre')\n",
    "axes[0,1].set_xlabel('Average Gross ($)')\n",
    "\n",
    "# Average rating by genre\n",
    "genre_stats_rating = genre_stats.sort_values('avg_rating', ascending=True)\n",
    "axes[1,0].barh(genre_stats_rating['genre'], genre_stats_rating['avg_rating'])\n",
    "axes[1,0].set_title('Average IMDb Rating by Genre')\n",
    "axes[1,0].set_xlabel('Average Rating')\n",
    "\n",
    "# Total gross by genre\n",
    "genre_stats_total = genre_stats.sort_values('total_gross', ascending=True)\n",
    "axes[1,1].barh(genre_stats_total['genre'], genre_stats_total['total_gross'])\n",
    "axes[1,1].set_title('Total Gross Revenue by Genre')\n",
    "axes[1,1].set_xlabel('Total Gross ($)')\n",
    "\n",
    "plt.tight_layout()\n",
    "plt.show()"
   ]
  },
  {
   "cell_type": "markdown",
   "metadata": {},
   "source": [
    "## 3. Studio Performance Analysis"
   ]
  },
  {
   "cell_type": "code",
   "execution_count": null,
   "metadata": {},
   "outputs": [],
   "source": [
    "# Top 10 studios by total gross\n",
    "top_studios = studio_stats.nlargest(10, 'total_gross')\n",
    "\n",
    "fig, axes = plt.subplots(1, 2, figsize=(16, 6))\n",
    "\n",
    "# Total gross by studio\n",
    "axes[0].bar(range(len(top_studios)), top_studios['total_gross'])\n",
    "axes[0].set_xticks(range(len(top_studios)))\n",
    "axes[0].set_xticklabels(top_studios['studio'], rotation=45, ha='right')\n",
    "axes[0].set_title('Top 10 Studios by Total Gross Revenue')\n",
    "axes[0].set_ylabel('Total Gross ($)')\n",
    "\n",
    "# Movie count vs average gross\n",
    "axes[1].scatter(studio_stats['movie_count'], studio_stats['avg_gross'], \n",
    "               s=studio_stats['total_gross']/1e6, alpha=0.6)\n",
    "axes[1].set_xlabel('Number of Movies')\n",
    "axes[1].set_ylabel('Average Gross per Movie ($)')\n",
    "axes[1].set_title('Studio Performance: Movie Count vs Average Gross\\n(Bubble size = Total Gross)')\n",
    "\n",
    "# Add studio labels for top performers\n",
    "for idx, row in studio_stats.nlargest(5, 'total_gross').iterrows():\n",
    "    axes[1].annotate(row['studio'], (row['movie_count'], row['avg_gross']), \n",
    "                    xytext=(5, 5), textcoords='offset points', fontsize=8)\n",
    "\n",
    "plt.tight_layout()\n",
    "plt.show()"
   ]
  },
  {
   "cell_type": "markdown",
   "metadata": {},
   "source": [
    "## 4. Budget vs Performance Analysis"
   ]
  },
  {
   "cell_type": "code",
   "execution_count": null,
   "metadata": {},
   "outputs": [],
   "source": [
    "# Budget vs Gross scatter plot\n",
    "fig, axes = plt.subplots(2, 2, figsize=(16, 12))\n",
    "\n",
    "# Budget vs Total Gross\n",
    "scatter = axes[0,0].scatter(movies['budget'], movies['total_gross'], \n",
    "                          c=movies['imdb_rating'], cmap='viridis', alpha=0.6)\n",
    "axes[0,0].set_xlabel('Budget ($)')\n",
    "axes[0,0].set_ylabel('Total Gross ($)')\n",
    "axes[0,0].set_title('Budget vs Total Gross (Color = IMDb Rating)')\n",
    "plt.colorbar(scatter, ax=axes[0,0])\n",
    "\n",
    "# ROI distribution\n",
    "axes[0,1].hist(movies['roi'], bins=50, alpha=0.7, edgecolor='black')\n",
    "axes[0,1].set_xlabel('Return on Investment (%)')\n",
    "axes[0,1].set_ylabel('Number of Movies')\n",
    "axes[0,1].set_title('Distribution of ROI')\n",
    "axes[0,1].axvline(movies['roi'].median(), color='red', linestyle='--', \n",
    "                  label=f'Median: {movies[\"roi\"].median():.1f}%')\n",
    "axes[0,1].legend()\n",
    "\n",
    "# Budget category analysis\n",
    "budget_perf = movies.groupby('budget_category')['roi'].agg(['mean', 'median', 'count'])\n",
    "axes[1,0].bar(budget_perf.index, budget_perf['mean'])\n",
    "axes[1,0].set_title('Average ROI by Budget Category')\n",
    "axes[1,0].set_ylabel('Average ROI (%)')\n",
    "axes[1,0].tick_params(axis='x', rotation=45)\n",
    "\n",
    "# Performance category distribution\n",
    "perf_counts = movies['performance'].value_counts()\n",
    "axes[1,1].pie(perf_counts.values, labels=perf_counts.index, autopct='%1.1f%%')\n",
    "axes[1,1].set_title('Movie Performance Categories')\n",
    "\n",
    "plt.tight_layout()\n",
    "plt.show()"
   ]
  },
  {
   "cell_type": "markdown",
   "metadata": {},
   "source": [
    "## 5. Time Series Analysis"
   ]
  },
  {
   "cell_type": "code",
   "execution_count": null,
   "metadata": {},
   "outputs": [],
   "source": [
    "# Release trends over time\n",
    "release_trends = movies.groupby('release_year').agg({\n",
    "    'movie_id': 'count',\n",
    "    'total_gross': ['mean', 'sum'],\n",
    "    'budget': 'mean',\n",
    "    'imdb_rating': 'mean'\n",
    "})\n",
    "\n",
    "release_trends.columns = ['movie_count', 'avg_gross', 'total_gross', 'avg_budget', 'avg_rating']\n",
    "release_trends = release_trends.reset_index()\n",
    "\n",
    "fig, axes = plt.subplots(2, 2, figsize=(16, 12))\n",
    "\n",
    "# Movies released per year\n",
    "axes[0,0].plot(release_trends['release_year'], release_trends['movie_count'], marker='o')\n",
    "axes[0,0].set_title('Number of Movies Released per Year')\n",
    "axes[0,0].set_xlabel('Year')\n",
    "axes[0,0].set_ylabel('Movie Count')\n",
    "\n",
    "# Average gross per year\n",
    "axes[0,1].plot(release_trends['release_year'], release_trends['avg_gross'], marker='o', color='green')\n",
    "axes[0,1].set_title('Average Gross Revenue per Year')\n",
    "axes[0,1].set_xlabel('Year')\n",
    "axes[0,1].set_ylabel('Average Gross ($)')\n",
    "\n",
    "# Average budget per year\n",
    "axes[1,0].plot(release_trends['release_year'], release_trends['avg_budget'], marker='o', color='red')\n",
    "axes[1,0].set_title('Average Budget per Year')\n",
    "axes[1,0].set_xlabel('Year')\n",
    "axes[1,0].set_ylabel('Average Budget ($)')\n",
    "\n",
    "# Average rating per year\n",
    "axes[1,1].plot(release_trends['release_year'], release_trends['avg_rating'], marker='o', color='purple')\n",
    "axes[1,1].set_title('Average IMDb Rating per Year')\n",
    "axes[1,1].set_xlabel('Year')\n",
    "axes[1,1].set_ylabel('Average Rating')\n",
    "\n",
    "plt.tight_layout()\n",
    "plt.show()"
   ]
  },
  {
   "cell_type": "markdown",
   "metadata": {},
   "source": [
    "## 6. Daily Sales Analysis"
   ]
  },
  {
   "cell_type": "code",
   "execution_count": null,
   "metadata": {},
   "outputs": [],
   "source": [
    "# Daily sales trends\n",
    "daily_sales_agg = sales.groupby('date').agg({\n",
    "    'tickets_sold': 'sum',\n",
    "    'revenue': 'sum',\n",
    "    'movie_id': 'nunique'\n",
    "}).reset_index()\n",
    "\n",
    "fig, axes = plt.subplots(2, 1, figsize=(16, 10))\n",
    "\n",
    "# Total daily ticket sales\n",
    "axes[0].plot(daily_sales_agg['date'], daily_sales_agg['tickets_sold'], alpha=0.7)\n",
    "axes[0].set_title('Daily Ticket Sales Over Time')\n",
    "axes[0].set_ylabel('Tickets Sold')\n",
    "axes[0].grid(True, alpha=0.3)\n",
    "\n",
    "# Daily revenue\n",
    "axes[1].plot(daily_sales_agg['date'], daily_sales_agg['revenue'], alpha=0.7, color='green')\n",
    "axes[1].set_title('Daily Revenue Over Time')\n",
    "axes[1].set_xlabel('Date')\n",
    "axes[1].set_ylabel('Revenue ($)')\n",
    "axes[1].grid(True, alpha=0.3)\n",
    "\n",
    "plt.tight_layout()\n",
    "plt.show()"
   ]
  },
  {
   "cell_type": "code",
   "execution_count": null,
   "metadata": {},
   "outputs": [],
   "source": [
    "# Weekend vs weekday analysis\n",
    "weekend_analysis = sales.groupby('is_weekend').agg({\n",
    "    'tickets_sold': 'mean',\n",
    "    'revenue': 'mean'\n",
    "}).reset_index()\n",
    "\n",
    "weekend_analysis['day_type'] = weekend_analysis['is_weekend'].map({True: 'Weekend', False: 'Weekday'})\n",
    "\n",
    "fig, axes = plt.subplots(1, 2, figsize=(14, 6))\n",
    "\n",
    "# Average tickets sold: Weekend vs Weekday\n",
    "axes[0].bar(weekend_analysis['day_type'], weekend_analysis['tickets_sold'])\n",
    "axes[0].set_title('Average Daily Tickets Sold: Weekend vs Weekday')\n",
    "axes[0].set_ylabel('Average Tickets Sold')\n",
    "\n",
    "# Average revenue: Weekend vs Weekday\n",
    "axes[1].bar(weekend_analysis['day_type'], weekend_analysis['revenue'], color='green')\n",
    "axes[1].set_title('Average Daily Revenue: Weekend vs Weekday')\n",
    "axes[1].set_ylabel('Average Revenue ($)')\n",
    "\n",
    "plt.tight_layout()\n",
    "plt.show()\n",
    "\n",
    "# Print exact numbers\n",
    "print(\"Weekend vs Weekday Performance:\")\n",
    "print(weekend_analysis)"
   ]
  },
  {
   "cell_type": "markdown",
   "metadata": {},
   "source": [
    "## 7. Key Insights and Conclusions"
   ]
  },
  {
   "cell_type": "code",
   "execution_count": null,
   "metadata": {},
   "outputs": [],
   "source": [
    "# Generate key insights\n",
    "print(\"=== KEY INSIGHTS FROM MOVIE DATA ANALYSIS ===\")\n",
    "print()\n",
    "\n",
    "# Top performing metrics\n",
    "top_genre_gross = genre_stats.loc[genre_stats['avg_gross'].idxmax(), 'genre']\n",
    "top_genre_rating = genre_stats.loc[genre_stats['avg_rating'].idxmax(), 'genre']\n",
    "top_studio = studio_stats.loc[studio_stats['total_gross'].idxmax(), 'studio']\n",
    "best_roi = movies.loc[movies['roi'].idxmax(), 'title']\n",
    "worst_roi = movies.loc[movies['roi'].idxmin(), 'title']\n",
    "\n",
    "print(f\"📊 GENRE INSIGHTS:\")\n",
    "print(f\"   • Highest grossing genre: {top_genre_gross}\")\n",
    "print(f\"   • Highest rated genre: {top_genre_rating}\")\n",
    "print(f\"   • Most popular genre: {movies['genre'].mode()[0]}\")\n",
    "print()\n",
    "\n",
    "print(f\"🎬 STUDIO INSIGHTS:\")\n",
    "print(f\"   • Top grossing studio: {top_studio}\")\n",
    "print(f\"   • Most active studio: {studio_stats.loc[studio_stats['movie_count'].idxmax(), 'studio']}\")\n",
    "print()\n",
    "\n",
    "print(f\"💰 FINANCIAL INSIGHTS:\")\n",
    "print(f\"   • Best ROI movie: {best_roi} ({movies.loc[movies['roi'].idxmax(), 'roi']:.1f}%)\")\n",
    "print(f\"   • Average ROI: {movies['roi'].mean():.1f}%\")\n",
    "print(f\"   • Median budget: ${movies['budget'].median():,.0f}\")\n",
    "print(f\"   • Median gross: ${movies['total_gross'].median():,.0f}\")\n",
    "print()\n",
    "\n",
    "print(f\"📅 TEMPORAL INSIGHTS:\")\n",
    "weekend_boost = (weekend_analysis[weekend_analysis['day_type'] == 'Weekend']['tickets_sold'].values[0] /\n",
    "                weekend_analysis[weekend_analysis['day_type'] == 'Weekday']['tickets_sold'].values[0] - 1) * 100\n",
    "print(f\"   • Weekend sales boost: {weekend_boost:.1f}% higher than weekdays\")\n",
    "print(f\"   • Peak release year: {release_trends.loc[release_trends['movie_count'].idxmax(), 'release_year']}\")\n",
    "print()\n",
    "\n",
    "print(f\"⭐ RATING INSIGHTS:\")\n",
    "print(f\"   • Average IMDb rating: {movies['imdb_rating'].mean():.1f}/10\")\n",
    "print(f\"   • Highest rated movie: {movies.loc[movies['imdb_rating'].idxmax(), 'title']} ({movies['imdb_rating'].max():.1f}/10)\")\n",
    "print()\n",
    "\n",
    "# Performance categories\n",
    "profitable_pct = (len(movies[movies['profit'] > 0]) / len(movies)) * 100\n",
    "print(f\"📈 SUCCESS METRICS:\")\n",
    "print(f\"   • Profitable movies: {profitable_pct:.1f}%\")\n",
    "print(f\"   • Movies with ROI > 100%: {len(movies[movies['roi'] > 100])}\")\n",
    "print(f\"   • Blockbuster movies (budget > $100M): {len(movies[movies['budget'] > 100_000_000])}\")"
   ]
  }
 ],
 "metadata": {
  "kernelspec": {
   "display_name": "Python 3",
   "language": "python",
   "name": "python3"
  },
  "language_info": {
   "codemirror_mode": {
    "name": "ipython",
    "version": 3
   },
   "file_extension": ".py",
   "mimetype": "text/x-python",
   "name": "python",
   "nbconvert_exporter": "python",
   "pygments_lexer": "ipython3",
   "version": "3.8.5"
  }
 },
 "nbformat": 4,
 "nbformat_minor": 4
}